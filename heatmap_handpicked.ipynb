{
 "cells": [
  {
   "cell_type": "markdown",
   "metadata": {},
   "source": [
    "Hand picking cases where LSTM gets fired (up or down)"
   ]
  },
  {
   "cell_type": "code",
   "execution_count": 1,
   "metadata": {
    "colab": {
     "base_uri": "https://localhost:8080/",
     "height": 233
    },
    "colab_type": "code",
    "id": "E3V4V-Jxmuv3",
    "outputId": "3190f6c3-b742-424f-8ec6-7ccecf8a3568"
   },
   "outputs": [],
   "source": [
    "# Import stuff\n",
    "\n",
    "import numpy as np\n",
    "import six\n",
    "import tensorflow as tf\n",
    "import time\n",
    "import os\n",
    "import seaborn as sns\n",
    "from matplotlib import pyplot as plt"
   ]
  },
  {
   "cell_type": "markdown",
   "metadata": {},
   "source": [
    "##### Using Shakespeare data: "
   ]
  },
  {
   "cell_type": "code",
   "execution_count": 2,
   "metadata": {
    "colab": {
     "base_uri": "https://localhost:8080/",
     "height": 233
    },
    "colab_type": "code",
    "id": "E3V4V-Jxmuv3",
    "outputId": "3190f6c3-b742-424f-8ec6-7ccecf8a3568"
   },
   "outputs": [],
   "source": [
    "SHAKESPEARE_TXT = 'shakespeare.txt'\n",
    "\n",
    "tf.logging.set_verbosity(tf.logging.INFO)"
   ]
  },
  {
   "cell_type": "markdown",
   "metadata": {},
   "source": [
    "##### Function to convert text into integers thereby removing unwanted characters."
   ]
  },
  {
   "cell_type": "code",
   "execution_count": 3,
   "metadata": {
    "colab": {
     "base_uri": "https://localhost:8080/",
     "height": 233
    },
    "colab_type": "code",
    "id": "E3V4V-Jxmuv3",
    "outputId": "3190f6c3-b742-424f-8ec6-7ccecf8a3568"
   },
   "outputs": [],
   "source": [
    "def transform(txt, pad_to=None):\n",
    "    output = np.asarray([ord(c) for c in txt if ord(c) < 255], dtype=np.int32)\n",
    "    if pad_to is not None:\n",
    "        output = output[:pad_to]\n",
    "        output = np.concatenate([\n",
    "            np.zeros([pad_to - len(txt)], dtype=np.int32),\n",
    "            output,\n",
    "        ])\n",
    "    return output"
   ]
  },
  {
   "cell_type": "markdown",
   "metadata": {},
   "source": [
    "##### Defining the LSTM model with two layers."
   ]
  },
  {
   "cell_type": "code",
   "execution_count": 4,
   "metadata": {
    "colab": {},
    "colab_type": "code",
    "id": "yLEM-fLJlEEt"
   },
   "outputs": [],
   "source": [
    "EMBEDDING_DIM = 512\n",
    "\n",
    "def lstm_model(seq_len=100, batch_size=None, stateful=True):\n",
    "    \"\"\"Language model: predict the next word given the current word.\"\"\"\n",
    "    source = tf.keras.Input(\n",
    "      name='seed', shape=(seq_len,), batch_size=batch_size, dtype=tf.int32)\n",
    "\n",
    "    embedding = tf.keras.layers.Embedding(input_dim=256, output_dim=EMBEDDING_DIM)(source)\n",
    "    lstm_1 = tf.keras.layers.LSTM(EMBEDDING_DIM, stateful=stateful, return_sequences=True)(embedding)\n",
    "    print(lstm_1)\n",
    "    lstm_2 = tf.keras.layers.LSTM(EMBEDDING_DIM, stateful=stateful, return_sequences=True)(lstm_1)\n",
    "    predicted_char = tf.keras.layers.TimeDistributed(tf.keras.layers.Dense(256, activation='softmax'))(lstm_2)\n",
    "    model = tf.keras.Model(inputs=[source], outputs=[predicted_char,lstm_1,lstm_2])\n",
    "\n",
    "    model.compile(\n",
    "      optimizer=tf.train.RMSPropOptimizer(learning_rate=0.01),\n",
    "      loss='sparse_categorical_crossentropy',\n",
    "      metrics=['sparse_categorical_accuracy'])\n",
    "    return model"
   ]
  },
  {
   "cell_type": "code",
   "execution_count": 5,
   "metadata": {
    "colab": {
     "base_uri": "https://localhost:8080/",
     "height": 883
    },
    "colab_type": "code",
    "id": "ExQ922tfzSGA",
    "outputId": "f9a16cbf-6e39-476d-a4fd-0420deda5d72"
   },
   "outputs": [],
   "source": [
    "tf.keras.backend.clear_session()"
   ]
  },
  {
   "cell_type": "markdown",
   "metadata": {
    "colab_type": "text",
    "id": "TCBtcpZkykSf"
   },
   "source": [
    "### Make predictions with the model\n",
    "\n",
    "Use the trained model to make predictions and generate your own Shakespeare-esque play.\n",
    "Start the model off with a *seed* sentence, then generate 250 characters from it. The model makes five predictions from the initial seed."
   ]
  },
  {
   "cell_type": "code",
   "execution_count": 6,
   "metadata": {
    "colab": {
     "base_uri": "https://localhost:8080/",
     "height": 2987
    },
    "colab_type": "code",
    "id": "tU7M-EGGxR3E",
    "outputId": "33eeff13-12f8-4e75-89a6-6e6b08655ac0"
   },
   "outputs": [
    {
     "name": "stdout",
     "output_type": "stream",
     "text": [
      "Tensor(\"lstm/transpose_1:0\", shape=(1, 1, 512), dtype=float32)\n"
     ]
    }
   ],
   "source": [
    "BATCH_SIZE = 1\n",
    "\n",
    "\n",
    "# Keras requires the batch size be specified ahead of time for stateful models.\n",
    "# We use a sequence length of 1, as we will be feeding in one character at a \n",
    "# time and predicting the next character.\n",
    "\n",
    "prediction_model = lstm_model(seq_len=1, batch_size=BATCH_SIZE, stateful=True)"
   ]
  },
  {
   "cell_type": "code",
   "execution_count": 7,
   "metadata": {
    "colab": {
     "base_uri": "https://localhost:8080/",
     "height": 2987
    },
    "colab_type": "code",
    "id": "tU7M-EGGxR3E",
    "outputId": "33eeff13-12f8-4e75-89a6-6e6b08655ac0"
   },
   "outputs": [],
   "source": [
    "prediction_model.load_weights('shakespeare_weights.h5')"
   ]
  },
  {
   "cell_type": "markdown",
   "metadata": {},
   "source": [
    "##### Prediction Function:\n",
    "\n",
    "This function takes a test text sequence and the trained model as inputs. <br>\n",
    "It predicts the next character fo each input character from the input text sequence. Alongwith the generated output, we are also storing the LSTM cell states at each character level. The LSTM layer has 512 cells. Thus, we have (512 x len(input_text)) number of states at each layer. This model has two such LSTM layers."
   ]
  },
  {
   "cell_type": "code",
   "execution_count": 8,
   "metadata": {},
   "outputs": [],
   "source": [
    "def predict(seed_text, prediction_model):\n",
    "    seed = transform(seed_txt)\n",
    "    seed = np.repeat(np.expand_dims(seed, 0), BATCH_SIZE, axis=0)\n",
    "    PREDICT_LEN = len(seed_txt)-1\n",
    "    print(\"Length of input text: \" + str(PREDICT_LEN))\n",
    "    \n",
    "    predicted_char_o = []\n",
    "    lstm_1_o = []\n",
    "    lstm_2_o = []\n",
    "\n",
    "    # First, run the seed forward to prime the state of the model.\n",
    "    prediction_model.reset_states()\n",
    "    for i in range(len(seed_txt) - 1):\n",
    "        [predicted_char_temp,lstm_1_temp,lstm_2_temp] = prediction_model.predict(seed[:, i:i + 1])\n",
    "        predicted_char_o.append(predicted_char_temp[0,0,:])\n",
    "        lstm_1_o.append(lstm_1_temp[0,0,:])\n",
    "        lstm_2_o.append(lstm_2_temp[0,0,:])\n",
    "    return predicted_char_o,lstm_1_o,lstm_2_o"
   ]
  },
  {
   "cell_type": "markdown",
   "metadata": {},
   "source": [
    "##### Analysis:\n",
    "\n",
    "Now, we analyse some special cases by providing the input text accordingly. We plot the heat-map of the cell which shows high or low activation."
   ]
  },
  {
   "cell_type": "markdown",
   "metadata": {},
   "source": [
    "#### 1. White Space:"
   ]
  },
  {
   "cell_type": "code",
   "execution_count": 9,
   "metadata": {},
   "outputs": [
    {
     "name": "stdout",
     "output_type": "stream",
     "text": [
      "Length of input text: 98\n"
     ]
    }
   ],
   "source": [
    "seed_txt = 'learn. do. you. see. full. stops. luck. lord.  hell. feel. good. trying. now. give it some    space'\n",
    "predicted_text, lstm_1, lstm_2 = predict(seed_txt,prediction_model)"
   ]
  },
  {
   "cell_type": "code",
   "execution_count": 10,
   "metadata": {
    "scrolled": false
   },
   "outputs": [
    {
     "data": {
      "image/png": "[encoded data removed]",
      "text/plain": [
       "<Figure size 1728x288 with 2 Axes>"
      ]
     },
     "metadata": {},
     "output_type": "display_data"
    }
   ],
   "source": [
    "plt.figure(figsize=[24,4])\n",
    "ax2 = sns.heatmap(np.array(lstm_1).T[130:131,:] ,xticklabels=list(seed_txt), )\n",
    "ax2.tick_params(labelsize=18)\n",
    "plt.show()"
   ]
  },
  {
   "cell_type": "code",
   "execution_count": 11,
   "metadata": {
    "scrolled": false
   },
   "outputs": [
    {
     "data": {
      "image/png": "[encoded data removed]",
      "text/plain": [
       "<Figure size 1728x288 with 2 Axes>"
      ]
     },
     "metadata": {},
     "output_type": "display_data"
    }
   ],
   "source": [
    "plt.figure(figsize=[24,4])\n",
    "ax2 = sns.heatmap(np.array(lstm_2).T[257:258,:] ,xticklabels=list(seed_txt))\n",
    "ax2.tick_params(labelsize=18)\n",
    "plt.show()"
   ]
  },
  {
   "cell_type": "markdown",
   "metadata": {},
   "source": [
    "#### 2. 'are':"
   ]
  },
  {
   "cell_type": "markdown",
   "metadata": {},
   "source": [
    "#### 3. 'the' :"
   ]
  },
  {
   "cell_type": "code",
   "execution_count": 12,
   "metadata": {},
   "outputs": [
    {
     "name": "stdout",
     "output_type": "stream",
     "text": [
      "102\n",
      "(1, 103)\n"
     ]
    }
   ],
   "source": [
    "# We seed the model with our initial string, copied BATCH_SIZE times\n",
    "\n",
    "#seed_txt = 'To hell with my vows of allegiance to you? '\n",
    "seed_txt = 'you at there. see there you here whether then or weather the not the best the they the their che he yhe'\n",
    "seed = transform(seed_txt)\n",
    "seed = np.repeat(np.expand_dims(seed, 0), BATCH_SIZE, axis=0)\n",
    "PREDICT_LEN = len(seed_txt)-1\n",
    "print(PREDICT_LEN)\n",
    "print(seed.shape)\n",
    "\n",
    "\n",
    "predicted_char_o = []\n",
    "lstm_1_o = []\n",
    "lstm_2_o = []\n",
    "\n",
    "# First, run the seed forward to prime the state of the model.\n",
    "prediction_model.reset_states()\n",
    "for i in range(len(seed_txt) - 1):\n",
    "    [predicted_char_temp,lstm_1_temp,lstm_2_temp] = prediction_model.predict(seed[:, i:i + 1])\n",
    "    predicted_char_o.append(predicted_char_temp[0,0,:])\n",
    "    lstm_1_o.append(lstm_1_temp[0,0,:])\n",
    "    lstm_2_o.append(lstm_2_temp[0,0,:])"
   ]
  },
  {
   "cell_type": "code",
   "execution_count": 13,
   "metadata": {},
   "outputs": [
    {
     "data": {
      "image/png": "[encoded data removed]",
      "text/plain": [
       "<Figure size 1728x288 with 2 Axes>"
      ]
     },
     "metadata": {},
     "output_type": "display_data"
    }
   ],
   "source": [
    "plt.figure(figsize=[24,4])\n",
    "ax2 = sns.heatmap(np.array(lstm_2_o).T[94:95,:],xticklabels=list(seed_txt))\n",
    "ax2.tick_params(labelsize=18)\n",
    "plt.show()"
   ]
  },
  {
   "cell_type": "markdown",
   "metadata": {},
   "source": [
    "#### 4. Capital Letters:"
   ]
  },
  {
   "cell_type": "code",
   "execution_count": 14,
   "metadata": {},
   "outputs": [
    {
     "name": "stdout",
     "output_type": "stream",
     "text": [
      "97\n"
     ]
    }
   ],
   "source": [
    "# We seed the model with our initial string, copied BATCH_SIZE times\n",
    "\n",
    "#seed_txt = 'To hell with my vows of allegiance to you? '\n",
    "seed_txt = 'heyaa HEY the YOU do get triggered HERE DHARA listen DOES do you TRIGGER at all CAPS hi HERE THERE'\n",
    "#seed_txt = 'Hi. My name is TWISHA. How are YOU? I hope YOU are fine.'\n",
    "seed = transform(seed_txt)\n",
    "seed = np.repeat(np.expand_dims(seed, 0), BATCH_SIZE, axis=0)\n",
    "PREDICT_LEN = len(seed_txt)-1\n",
    "print(PREDICT_LEN)\n",
    "\n",
    "predicted_char_o = []\n",
    "lstm_1_o = []\n",
    "lstm_2_o = []\n",
    "\n",
    "# First, run the seed forward to prime the state of the model.\n",
    "prediction_model.reset_states()\n",
    "for i in range(len(seed[0][:]) - 1):\n",
    "    [predicted_char_temp,lstm_1_temp,lstm_2_temp] = prediction_model.predict(seed[:, i:i + 1])\n",
    "    predicted_char_o.append(predicted_char_temp[0,0,:])\n",
    "    lstm_1_o.append(lstm_1_temp[0,0,:])\n",
    "    lstm_2_o.append(lstm_2_temp[0,0,:])"
   ]
  },
  {
   "cell_type": "code",
   "execution_count": 15,
   "metadata": {
    "scrolled": false
   },
   "outputs": [
    {
     "data": {
      "image/png": "[encoded data removed]",
      "text/plain": [
       "<Figure size 1728x288 with 2 Axes>"
      ]
     },
     "metadata": {},
     "output_type": "display_data"
    }
   ],
   "source": [
    "plt.figure(figsize=[24,4])\n",
    "ax2 = sns.heatmap(np.array(lstm_2_o).T[257:258,:] ,xticklabels=list(seed_txt))\n",
    "ax2.tick_params(labelsize=18)\n",
    "plt.show()"
   ]
  },
  {
   "cell_type": "markdown",
   "metadata": {},
   "source": [
    "Cell Numbers as observed:\n",
    "\n",
    "1. Full Stops - 256:257 (lstm_1), 257:258 (lstm_2)\n",
    "2. \" \" Inverted - Could not find any particular cell\n",
    "3. the - 90:95 (lstm_2)\n",
    "4. Capital Letters - 255:258 (lstm_2) (a bit delay observed in activation of cell)"
   ]
  }
 ],
 "metadata": {
  "accelerator": "TPU",
  "colab": {
   "collapsed_sections": [
    "N6ZDpd9XzFeN"
   ],
   "name": "Predict Shakespeare with Cloud TPUs and Keras",
   "provenance": [],
   "version": "0.3.2"
  },
  "kernelspec": {
   "display_name": "Python 3",
   "language": "python",
   "name": "python3"
  },
  "language_info": {
   "codemirror_mode": {
    "name": "ipython",
    "version": 3
   },
   "file_extension": ".py",
   "mimetype": "text/x-python",
   "name": "python",
   "nbconvert_exporter": "python",
   "pygments_lexer": "ipython3",
   "version": "3.6.7"
  }
 },
 "nbformat": 4,
 "nbformat_minor": 1
}
