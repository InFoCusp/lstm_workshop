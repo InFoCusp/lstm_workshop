{
 "cells": [
  {
   "cell_type": "code",
   "execution_count": 1,
   "metadata": {},
   "outputs": [],
   "source": [
    "import tensorflow as tf"
   ]
  },
  {
   "attachments": {},
   "cell_type": "markdown",
   "metadata": {},
   "source": [
    "![grads.png](https://raw.githubusercontent.com/InFoCusp/ui_resources/master/backprop_simple_example.png)"
   ]
  },
  {
   "cell_type": "code",
   "execution_count": 2,
   "metadata": {},
   "outputs": [
    {
     "name": "stdout",
     "output_type": "stream",
     "text": [
      "[[-3.0], [-3.0], [2.0]]\n"
     ]
    }
   ],
   "source": [
    "# with tf.Graph.g as g:\n",
    "a = tf.constant(-4.0, name='a')\n",
    "b = tf.constant(6.0, name='b')\n",
    "c = tf.constant(-3.0,name='c')\n",
    "d = a + b\n",
    "e = c*d\n",
    "de_da = tf.gradients(e, a)\n",
    "de_db = tf.gradients(e, b)\n",
    "de_dc = tf.gradients(e, c)\n",
    "with tf.Session() as sess:\n",
    "    print(sess.run([de_da, de_db, de_dc]))"
   ]
  },
  {
   "cell_type": "code",
   "execution_count": 3,
   "metadata": {},
   "outputs": [
    {
     "name": "stdout",
     "output_type": "stream",
     "text": [
      "[-3.0, -3.0, 2.0]\n"
     ]
    }
   ],
   "source": [
    "de_dd_manual = c\n",
    "de_da_manual = de_dd_manual * 1\n",
    "de_db_manual = de_dd_manual * 1\n",
    "de_dc_manual = d\n",
    "with tf.Session() as sess:\n",
    "    print(sess.run([de_da_manual, de_db_manual, de_dc_manual]))"
   ]
  },
  {
   "attachments": {},
   "cell_type": "markdown",
   "metadata": {},
   "source": [
    "![backprop_complex_example.png](https://raw.githubusercontent.com/InFoCusp/ui_resources/master/backprop_complex_example.png)"
   ]
  },
  {
   "cell_type": "code",
   "execution_count": 4,
   "metadata": {},
   "outputs": [
    {
     "name": "stdout",
     "output_type": "stream",
     "text": [
      "[-2.0, 6.0, 4.0, 1.0, -1.0, 0.36787945, 1.3678794, 0.7310586]\n",
      "[[-0.53444666], [-0.53444666], [-0.19661194], [0.19661194], [0.19661194], [0.19661194], [0.19661194]]\n",
      "[[-0.19661194], [0.39322388], [-0.39322388], [-0.5898358], [0.19661194]]\n"
     ]
    }
   ],
   "source": [
    "# with tf.Graph.g as g:\n",
    "w0 = tf.constant(2.0, name='a')\n",
    "x0 = tf.constant(-1.0, name='b')\n",
    "w1 = tf.constant(-3.0)\n",
    "x1 = tf.constant(-2.0)\n",
    "w2 = tf.constant(-3.0)\n",
    "\n",
    "a = w0*x0 \n",
    "b = w1*x1\n",
    "c = a + b\n",
    "d = c + w2\n",
    "e = d * -1\n",
    "f = tf.exp(e)\n",
    "g = f + 1\n",
    "h = 1/g\n",
    "\n",
    "with tf.Session() as sess:\n",
    "    print(sess.run([a, b, c, d, e, f, g , h]))\n",
    "\n",
    "dh_dg = tf.gradients(h, g)\n",
    "dh_df = tf.gradients(h, f)\n",
    "dh_de = tf.gradients(h, e)\n",
    "dh_dd = tf.gradients(h, d)\n",
    "dh_dc = tf.gradients(h, c)\n",
    "dh_db = tf.gradients(h, b)\n",
    "dh_da = tf.gradients(h, a)\n",
    "dh_dw0 = tf.gradients(h, w0)\n",
    "dh_dx0 = tf.gradients(h, x0)\n",
    "dh_dw1 = tf.gradients(h, w1)\n",
    "dh_dx1 = tf.gradients(h, x1)\n",
    "dh_dw2 = tf.gradients(h, w2)\n",
    "\n",
    "with tf.Session() as sess:\n",
    "    print(sess.run([dh_dg, dh_df, dh_de, dh_dd, dh_dc, dh_db, dh_da]))\n",
    "    print(sess.run([dh_dw0, dh_dx0, dh_dw1, dh_dx1, dh_dw2]))"
   ]
  },
  {
   "cell_type": "code",
   "execution_count": 5,
   "metadata": {},
   "outputs": [
    {
     "name": "stdout",
     "output_type": "stream",
     "text": [
      "[-0.5344467, -0.5344467, -0.19661197, 0.19661197, 0.19661197, 0.19661197, 0.19661197]\n",
      "[-0.19661197, 0.39322394, -0.39322394, -0.5898359, 0.19661197]\n"
     ]
    }
   ],
   "source": [
    "dh_dg_manual = -1/(g*g)\n",
    "dg_df_manual = 1\n",
    "df_de_manual = tf.exp(e)\n",
    "de_dd_manual = -1\n",
    "dd_dc_manual = 1\n",
    "dc_da_manual = 1\n",
    "dc_db_manual = 1\n",
    "\n",
    "dd_dw2_manual = 1\n",
    "db_dw1_manual = x1\n",
    "da_dw0_manual = x0\n",
    "\n",
    "db_dx1_manual = w1\n",
    "da_dx0_manual = w0\n",
    "\n",
    "dh_df_manual = dh_dg_manual * dg_df_manual\n",
    "dh_de_manual = dh_df_manual * df_de_manual\n",
    "dh_dd_manual = dh_de_manual * de_dd_manual\n",
    "dh_dc_manual = dh_dd_manual * dd_dc_manual\n",
    "dh_db_manual = dh_dc_manual * dc_db_manual\n",
    "dh_da_manual = dh_dc_manual * dc_da_manual\n",
    "\n",
    "dh_dw2_manual = dh_dd_manual * dd_dw2_manual\n",
    "dh_dw1_manual = dh_db_manual * db_dw1_manual\n",
    "dh_dw0_manual = dh_da_manual * da_dw0_manual\n",
    "\n",
    "dh_dx1_manual = dh_db_manual * db_dx1_manual\n",
    "dh_dx0_manual = dh_da_manual * da_dx0_manual\n",
    "\n",
    "with tf.Session() as sess:\n",
    "    print(sess.run([dh_dg_manual, dh_df_manual, dh_de_manual, dh_dd_manual, dh_dc_manual, dh_db_manual, dh_da_manual]))\n",
    "    print(sess.run([dh_dw0_manual, dh_dx0_manual, dh_dw1_manual, dh_dx1_manual, dh_dw2_manual]))"
   ]
  },
  {
   "cell_type": "code",
   "execution_count": null,
   "metadata": {},
   "outputs": [],
   "source": []
  }
 ],
 "metadata": {
  "kernelspec": {
   "display_name": "Python 3",
   "language": "python",
   "name": "python3"
  },
  "language_info": {
   "codemirror_mode": {
    "name": "ipython",
    "version": 3
   },
   "file_extension": ".py",
   "mimetype": "text/x-python",
   "name": "python",
   "nbconvert_exporter": "python",
   "pygments_lexer": "ipython3",
   "version": "3.6.7"
  }
 },
 "nbformat": 4,
 "nbformat_minor": 2
}
